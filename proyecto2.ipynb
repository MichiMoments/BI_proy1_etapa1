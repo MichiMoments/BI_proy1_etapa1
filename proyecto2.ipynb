{
 "cells": [
  {
   "cell_type": "code",
   "execution_count": 18,
   "metadata": {},
   "outputs": [
    {
     "name": "stderr",
     "output_type": "stream",
     "text": [
      "[nltk_data] Downloading package stopwords to\n",
      "[nltk_data]     C:\\Users\\Luisfetoga\\AppData\\Roaming\\nltk_data...\n",
      "[nltk_data]   Package stopwords is already up-to-date!\n"
     ]
    }
   ],
   "source": [
    "import pandas as pd\n",
    "import matplotlib.pyplot as plt\n",
    "\n",
    "from sklearn.model_selection import train_test_split\n",
    "\n",
    "import nltk\n",
    "nltk.download('stopwords')\n",
    "from nltk.corpus import stopwords\n",
    "\n",
    "from sklearn.pipeline import make_pipeline\n",
    "\n",
    "from sklearn.feature_extraction.text import TfidfVectorizer\n",
    "\n",
    "from sklearn.linear_model import LogisticRegression\n",
    "\n",
    "from sklearn.metrics import ConfusionMatrixDisplay\n",
    "from sklearn.metrics import confusion_matrix\n",
    "from sklearn.metrics import precision_score, recall_score, f1_score, accuracy_score"
   ]
  },
  {
   "cell_type": "code",
   "execution_count": 31,
   "metadata": {},
   "outputs": [],
   "source": [
    "class limpieza:\n",
    "\n",
    "    def solo_letras(self, texto):\n",
    "        abc = set(list(\"abcdefghijklmnñopqrstuvwxyz\"))\n",
    "        new_texto = \"\"\n",
    "        for i in range(len(texto)):\n",
    "            if texto[i] not in abc:\n",
    "                new_texto += \" \"\n",
    "            else:\n",
    "                new_texto += texto[i]\n",
    "        return new_texto\n",
    "\n",
    "    def texto(self):\n",
    "        self.data = self.data.lower()\n",
    "        self.data = self.data.replace(\"á\", \"a\").replace(\"é\", \"e\").replace(\"í\", \"i\").replace(\"ó\", \"o\").replace(\"ú\", \"u\")\n",
    "        self.data = self.solo_letras(self.data)\n",
    "        return self.data\n",
    "    \n",
    "    def stopwords(self):\n",
    "        stop = stopwords.words(\"spanish\")\n",
    "        self.data = \" \".join([item for item in self.data.split() if item not in stop])\n",
    "        return self.data\n",
    "\n",
    "    def stem(self):\n",
    "        stemmer = nltk.SnowballStemmer(\"spanish\")\n",
    "        self.data = \" \".join([stemmer.stem(item) for item in self.data.split()])\n",
    "        return self.data\n",
    "    \n",
    "    def limpiar(self, data):\n",
    "        self.data = data\n",
    "        self.texto()\n",
    "        self.stem()\n",
    "        self.stopwords()\n",
    "        return self.data\n"
   ]
  },
  {
   "cell_type": "code",
   "execution_count": 37,
   "metadata": {},
   "outputs": [],
   "source": [
    "data = pd.read_csv('tipo2_entrenamiento_estudiantes.csv')\n",
    "\n",
    "data[\"Review\"] = data[\"Review\"].apply(limpieza().limpiar)\n",
    "\n",
    "data_train, data_test = train_test_split(data, test_size=0.2)\n",
    "x_train, x_test = data_train[\"Review\"], data_test[\"Review\"]\n",
    "y_train, y_test = data_train[\"Class\"], data_test[\"Class\"]"
   ]
  },
  {
   "cell_type": "code",
   "execution_count": 38,
   "metadata": {},
   "outputs": [],
   "source": [
    "pipeline = make_pipeline(\n",
    "    TfidfVectorizer(sublinear_tf=True, max_df=0.5, min_df=5, ngram_range=(1, 3)),\n",
    "    LogisticRegression(max_iter=1000)\n",
    ")"
   ]
  },
  {
   "cell_type": "code",
   "execution_count": 39,
   "metadata": {},
   "outputs": [
    {
     "name": "stdout",
     "output_type": "stream",
     "text": [
      "Exactitud:  0.51\n",
      "Precisión:  0.51\n",
      "Recall:  0.51\n",
      "F1:  0.503\n"
     ]
    },
    {
     "data": {
      "image/png": "[encoded data removed]",
      "text/plain": [
       "<Figure size 640x480 with 2 Axes>"
      ]
     },
     "metadata": {},
     "output_type": "display_data"
    }
   ],
   "source": [
    "pipeline.fit(x_train, y_train)\n",
    "\n",
    "pred = pipeline.predict(x_test)\n",
    "\n",
    "print(\"Exactitud: \", round(accuracy_score(y_test, pred), 3))\n",
    "print(\"Precisión: \", round(precision_score(y_test, pred, average='weighted'), 3))\n",
    "print(\"Recall: \", round(recall_score(y_test, pred, average='weighted'), 3))\n",
    "print(\"F1: \", round(f1_score(y_test, pred, average='weighted'), 3))\n",
    "\n",
    "cm = confusion_matrix(y_test, pred)\n",
    "disp = ConfusionMatrixDisplay(confusion_matrix=cm, display_labels=pipeline.classes_)\n",
    "disp.plot()\n",
    "\n",
    "plt.show()"
   ]
  },
  {
   "cell_type": "code",
   "execution_count": 43,
   "metadata": {},
   "outputs": [
    {
     "name": "stdout",
     "output_type": "stream",
     "text": [
      "horribl : 1 (60.32%)\n",
      "buen : 4 (87.98%)\n",
      "mal : 2 (59.07%)\n",
      "excelent : 5 (97.59%)\n",
      "pesim : 1 (89.19%)\n",
      "mal : 2 (59.07%)\n"
     ]
    }
   ],
   "source": [
    "test = pd.Series([\"horrible\", \"muy bueno\", \"malo\", \"excelente\", \"pésimo\", \"muy malo\"])\n",
    "\n",
    "test = test.apply(limpieza().limpiar)\n",
    "\n",
    "result = pipeline.predict(test)\n",
    "score = pipeline.predict_proba(test)\n",
    "\n",
    "for i in range(len(test)):\n",
    "    print(test[i], \":\", result[i], \"(\"+str(round(score[i][result[i]-1]*100,2))+\"%)\")\n"
   ]
  },
  {
   "cell_type": "code",
   "execution_count": 44,
   "metadata": {},
   "outputs": [
    {
     "data": {
      "text/plain": [
       "array([[6.03171662e-01, 1.52577867e-01, 8.32184737e-02, 7.12752883e-02,\n",
       "        8.97567087e-02],\n",
       "       [4.55917970e-04, 3.04753908e-03, 8.87893769e-02, 8.79757971e-01,\n",
       "        2.79491953e-02],\n",
       "       [3.53544341e-01, 5.90720042e-01, 5.09316029e-02, 3.74641303e-03,\n",
       "        1.05760070e-03],\n",
       "       [2.44563209e-04, 3.72682504e-04, 8.73247677e-04, 2.25992383e-02,\n",
       "        9.75910268e-01],\n",
       "       [8.91867810e-01, 7.44273161e-02, 1.24446822e-02, 9.90241579e-03,\n",
       "        1.13577759e-02],\n",
       "       [3.53544341e-01, 5.90720042e-01, 5.09316029e-02, 3.74641303e-03,\n",
       "        1.05760070e-03]])"
      ]
     },
     "execution_count": 44,
     "metadata": {},
     "output_type": "execute_result"
    }
   ],
   "source": [
    "pipeline.predict_proba(test)"
   ]
  },
  {
   "cell_type": "code",
   "execution_count": 45,
   "metadata": {},
   "outputs": [
    {
     "data": {
      "text/plain": [
       "['reviewModel.joblib']"
      ]
     },
     "execution_count": 45,
     "metadata": {},
     "output_type": "execute_result"
    }
   ],
   "source": [
    "from joblib import dump, load\n",
    "\n",
    "dump(pipeline, 'reviewModel.joblib')"
   ]
  }
 ],
 "metadata": {
  "kernelspec": {
   "display_name": "Python 3",
   "language": "python",
   "name": "python3"
  },
  "language_info": {
   "codemirror_mode": {
    "name": "ipython",
    "version": 3
   },
   "file_extension": ".py",
   "mimetype": "text/x-python",
   "name": "python",
   "nbconvert_exporter": "python",
   "pygments_lexer": "ipython3",
   "version": "3.10.11"
  }
 },
 "nbformat": 4,
 "nbformat_minor": 2
}
