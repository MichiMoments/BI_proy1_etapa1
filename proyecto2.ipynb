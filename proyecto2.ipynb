{
 "cells": [
  {
   "cell_type": "code",
   "execution_count": 36,
   "metadata": {},
   "outputs": [
    {
     "name": "stderr",
     "output_type": "stream",
     "text": [
      "[nltk_data] Downloading package stopwords to\n",
      "[nltk_data]     C:\\Users\\Luisfetoga\\AppData\\Roaming\\nltk_data...\n",
      "[nltk_data]   Package stopwords is already up-to-date!\n"
     ]
    }
   ],
   "source": [
    "import pandas as pd\n",
    "import matplotlib.pyplot as plt\n",
    "\n",
    "from sklearn.model_selection import train_test_split\n",
    "\n",
    "import nltk\n",
    "nltk.download('stopwords')\n",
    "from nltk.corpus import stopwords\n",
    "\n",
    "from sklearn.pipeline import make_pipeline\n",
    "\n",
    "from sklearn.feature_extraction.text import TfidfVectorizer\n",
    "\n",
    "from sklearn.linear_model import LogisticRegression\n",
    "\n",
    "from sklearn.metrics import ConfusionMatrixDisplay\n",
    "from sklearn.metrics import confusion_matrix\n",
    "from sklearn.metrics import precision_score, recall_score, f1_score, accuracy_score"
   ]
  },
  {
   "cell_type": "code",
   "execution_count": 37,
   "metadata": {},
   "outputs": [],
   "source": [
    "data = pd.read_csv('tipo2_entrenamiento_estudiantes.csv')"
   ]
  },
  {
   "cell_type": "code",
   "execution_count": 38,
   "metadata": {},
   "outputs": [],
   "source": [
    "data_train, data_test = train_test_split(data, test_size=0.2)\n",
    "x_train, x_test = data_train[\"Review\"], data_test[\"Review\"]\n",
    "y_train, y_test = data_train[\"Class\"], data_test[\"Class\"]"
   ]
  },
  {
   "cell_type": "code",
   "execution_count": 39,
   "metadata": {},
   "outputs": [],
   "source": [
    "class limpieza:\n",
    "\n",
    "    def solo_letras(self, texto):\n",
    "        abc = \"abcdefghijklmnñopqrstuvwxyz\"\n",
    "        new_texto = \"\"\n",
    "        for i in range(len(texto)):\n",
    "            if texto[i] not in abc:\n",
    "                new_texto += \" \"\n",
    "            else:\n",
    "                new_texto += texto[i]\n",
    "        return new_texto\n",
    "\n",
    "    def limpiar(self):\n",
    "        self.data = self.data.str.lower()\n",
    "        self.data = self.data.str.replace(\"á\", \"a\").str.replace(\"é\", \"e\").str.replace(\"í\", \"i\").str.replace(\"ó\", \"o\").str.replace(\"ú\", \"u\")\n",
    "        self.data = self.data.apply(lambda x: self.solo_letras(x))\n",
    "        return self.data\n",
    "    \n",
    "    def stopwords(self):\n",
    "        stop = stopwords.words(\"spanish\")\n",
    "        self.data = self.data.apply(lambda x: \" \".join([item for item in x.split() if item not in stop]))\n",
    "        return self.data\n",
    "\n",
    "    def stem(self):\n",
    "        stemmer = nltk.SnowballStemmer(\"spanish\")\n",
    "        self.data = self.data.apply(lambda x: \" \".join([stemmer.stem(item) for item in x.split()]))\n",
    "        return self.data\n",
    "    \n",
    "    def fit(self, data, y=None):\n",
    "        self.data = data\n",
    "        self.limpiar()\n",
    "        self.stem()\n",
    "        self.stopwords()\n",
    "        return self\n",
    "    \n",
    "    def transform(self, data):\n",
    "        self.data = data\n",
    "        self.limpiar()\n",
    "        self.stem()\n",
    "        self.stopwords()\n",
    "        return self.data\n"
   ]
  },
  {
   "cell_type": "code",
   "execution_count": 40,
   "metadata": {},
   "outputs": [],
   "source": [
    "from sklearn.pipeline import Pipeline\n",
    "\n",
    "\n",
    "pipeline = Pipeline([\n",
    "    ('preprocessor', limpieza()),\n",
    "    ('vectorizer', TfidfVectorizer(sublinear_tf=True, max_df=0.5, min_df=5, ngram_range=(1, 3))),\n",
    "    ('LogisticRegression', LogisticRegression(max_iter=1000))\n",
    "])"
   ]
  },
  {
   "cell_type": "code",
   "execution_count": 41,
   "metadata": {},
   "outputs": [
    {
     "name": "stdout",
     "output_type": "stream",
     "text": [
      "Fitting...\n",
      "Fitted! (19.58s)\n",
      "\n",
      "Predicting...\n",
      "Predicted! (2.18s)\n",
      "\n",
      "Exactitud:  0.506\n",
      "Precisión:  0.498\n",
      "Recall:  0.506\n",
      "F1:  0.495\n"
     ]
    },
    {
     "data": {
      "image/png": "[encoded data removed]",
      "text/plain": [
       "<Figure size 640x480 with 2 Axes>"
      ]
     },
     "metadata": {},
     "output_type": "display_data"
    }
   ],
   "source": [
    "import time\n",
    "print(\"Fitting...\")\n",
    "t = time.time()\n",
    "pipeline.fit(x_train, y_train)\n",
    "print(f\"Fitted! ({round(time.time()-t, 2)}s)\")\n",
    "print()\n",
    "print(\"Predicting...\")\n",
    "t = time.time()\n",
    "pred = pipeline.predict(x_test)\n",
    "print(f\"Predicted! ({round(time.time()-t, 2)}s)\")\n",
    "print()\n",
    "print(\"Exactitud: \", round(accuracy_score(y_test, pred), 3))\n",
    "print(\"Precisión: \", round(precision_score(y_test, pred, average='weighted'), 3))\n",
    "print(\"Recall: \", round(recall_score(y_test, pred, average='weighted'), 3))\n",
    "print(\"F1: \", round(f1_score(y_test, pred, average='weighted'), 3))\n",
    "\n",
    "cm = confusion_matrix(y_test, pred)\n",
    "disp = ConfusionMatrixDisplay(confusion_matrix=cm, display_labels=pipeline.classes_)\n",
    "disp.plot()\n",
    "\n",
    "plt.show()"
   ]
  },
  {
   "cell_type": "code",
   "execution_count": 42,
   "metadata": {},
   "outputs": [
    {
     "name": "stdout",
     "output_type": "stream",
     "text": [
      "horrible : 1 (64.59%)\n",
      "muy bueno : 4 (86.14%)\n",
      "malo : 2 (57.9%)\n",
      "excelente : 5 (98.02%)\n",
      "pésimo : 1 (90.07%)\n",
      "muy malo : 2 (57.9%)\n"
     ]
    }
   ],
   "source": [
    "test = pd.Series([\"horrible\", \"muy bueno\", \"malo\", \"excelente\", \"pésimo\", \"muy malo\"])\n",
    "\n",
    "result = pipeline.predict(test)\n",
    "score = pipeline.predict_proba(test)\n",
    "\n",
    "for i in range(len(test)):\n",
    "    print(test[i], \":\", result[i], \"(\"+str(round(score[i][result[i]-1]*100,2))+\"%)\")\n"
   ]
  },
  {
   "cell_type": "code",
   "execution_count": 43,
   "metadata": {},
   "outputs": [
    {
     "data": {
      "text/plain": [
       "array([[6.45945562e-01, 1.16652195e-01, 7.75519656e-02, 6.45626389e-02,\n",
       "        9.52876384e-02],\n",
       "       [5.85156414e-04, 4.89609761e-03, 9.33166868e-02, 8.61381438e-01,\n",
       "        3.98206216e-02],\n",
       "       [3.73529192e-01, 5.79026566e-01, 4.22010616e-02, 4.00597782e-03,\n",
       "        1.23720187e-03],\n",
       "       [2.18369422e-04, 3.11843333e-04, 6.65480429e-04, 1.86323763e-02,\n",
       "        9.80171930e-01],\n",
       "       [9.00713138e-01, 6.44068443e-02, 1.41317653e-02, 9.08908455e-03,\n",
       "        1.16591675e-02],\n",
       "       [3.73529192e-01, 5.79026566e-01, 4.22010616e-02, 4.00597782e-03,\n",
       "        1.23720187e-03]])"
      ]
     },
     "execution_count": 43,
     "metadata": {},
     "output_type": "execute_result"
    }
   ],
   "source": [
    "pipeline.predict_proba(test)"
   ]
  },
  {
   "cell_type": "code",
   "execution_count": 44,
   "metadata": {},
   "outputs": [
    {
     "data": {
      "text/plain": [
       "['reviewModel.joblib']"
      ]
     },
     "execution_count": 44,
     "metadata": {},
     "output_type": "execute_result"
    }
   ],
   "source": [
    "from joblib import dump, load\n",
    "\n",
    "dump(pipeline, 'reviewModel.joblib')"
   ]
  }
 ],
 "metadata": {
  "kernelspec": {
   "display_name": "Python 3",
   "language": "python",
   "name": "python3"
  },
  "language_info": {
   "codemirror_mode": {
    "name": "ipython",
    "version": 3
   },
   "file_extension": ".py",
   "mimetype": "text/x-python",
   "name": "python",
   "nbconvert_exporter": "python",
   "pygments_lexer": "ipython3",
   "version": "3.10.11"
  }
 },
 "nbformat": 4,
 "nbformat_minor": 2
}
