{
 "cells": [
  {
   "cell_type": "code",
   "execution_count": 312,
   "metadata": {},
   "outputs": [
    {
     "name": "stderr",
     "output_type": "stream",
     "text": [
      "[nltk_data] Downloading package stopwords to\n",
      "[nltk_data]     C:\\Users\\Luisfetoga\\AppData\\Roaming\\nltk_data...\n",
      "[nltk_data]   Package stopwords is already up-to-date!\n"
     ]
    }
   ],
   "source": [
    "import pandas as pd\n",
    "import matplotlib.pyplot as plt\n",
    "\n",
    "from sklearn.model_selection import train_test_split\n",
    "\n",
    "import nltk\n",
    "nltk.download('stopwords')\n",
    "from nltk.corpus import stopwords\n",
    "\n",
    "from sklearn.base import TransformerMixin\n",
    "\n",
    "from sklearn.pipeline import make_pipeline\n",
    "\n",
    "from sklearn.feature_extraction.text import TfidfVectorizer\n",
    "\n",
    "from sklearn.linear_model import LogisticRegression\n",
    "\n",
    "from sklearn.metrics import ConfusionMatrixDisplay\n",
    "from sklearn.metrics import confusion_matrix\n",
    "from sklearn.metrics import precision_score, recall_score, f1_score, accuracy_score"
   ]
  },
  {
   "cell_type": "code",
   "execution_count": 313,
   "metadata": {},
   "outputs": [],
   "source": [
    "data = pd.read_csv('tipo2_entrenamiento_estudiantes.csv')"
   ]
  },
  {
   "cell_type": "code",
   "execution_count": 314,
   "metadata": {},
   "outputs": [],
   "source": [
    "data_train, data_test = train_test_split(data, test_size=0.2)\n",
    "x_train, x_test = data_train[\"Review\"], data_test[\"Review\"]\n",
    "y_train, y_test = data_train[\"Class\"], data_test[\"Class\"]"
   ]
  },
  {
   "cell_type": "code",
   "execution_count": 326,
   "metadata": {},
   "outputs": [],
   "source": [
    "class limpieza:\n",
    "\n",
    "    def solo_letras(self, texto):\n",
    "        abc = \"abcdefghijklmnñopqrstuvwxyz\"\n",
    "        new_texto = \"\"\n",
    "        for i in range(len(texto)):\n",
    "            if texto[i] not in abc:\n",
    "                new_texto += \" \"\n",
    "            else:\n",
    "                new_texto += texto[i]\n",
    "        return new_texto\n",
    "\n",
    "    def limpiar(self):\n",
    "        self.data = self.data.str.lower()\n",
    "        self.data = self.data.str.replace(\"á\", \"a\").str.replace(\"é\", \"e\").str.replace(\"í\", \"i\").str.replace(\"ó\", \"o\").str.replace(\"ú\", \"u\")\n",
    "        self.data = self.data.apply(lambda x: self.solo_letras(x))\n",
    "        return self.data\n",
    "    \n",
    "    def stopwords(self):\n",
    "        stop = stopwords.words(\"spanish\")\n",
    "        self.data = self.data.apply(lambda x: \" \".join([item for item in x.split() if item not in stop]))\n",
    "        return self.data\n",
    "\n",
    "    def stem(self):\n",
    "        stemmer = nltk.SnowballStemmer(\"spanish\")\n",
    "        self.data = self.data.apply(lambda x: \" \".join([stemmer.stem(item) for item in x.split()]))\n",
    "        return self.data\n",
    "    \n",
    "    def fit(self, data, y=None):\n",
    "        self.data = data\n",
    "        self.limpiar()\n",
    "        self.stem()\n",
    "        #self.stopwords()\n",
    "        return self\n",
    "    \n",
    "    def transform(self, data):\n",
    "        self.data = data\n",
    "        self.limpiar()\n",
    "        self.stem()\n",
    "        #self.stopwords()\n",
    "        return self.data\n"
   ]
  },
  {
   "cell_type": "code",
   "execution_count": 333,
   "metadata": {},
   "outputs": [],
   "source": [
    "pipeline = make_pipeline(\n",
    "    limpieza(),\n",
    "    TfidfVectorizer(sublinear_tf=True, max_df=0.5, min_df=5, ngram_range=(1, 3)),\n",
    "    LogisticRegression(max_iter=1000)\n",
    ")"
   ]
  },
  {
   "cell_type": "code",
   "execution_count": 334,
   "metadata": {},
   "outputs": [
    {
     "name": "stdout",
     "output_type": "stream",
     "text": [
      "Exactitud:  0.526\n",
      "Precisión:  0.523\n",
      "Recall:  0.526\n",
      "F1:  0.519\n"
     ]
    },
    {
     "data": {
      "image/png": "[encoded data removed]",
      "text/plain": [
       "<Figure size 640x480 with 2 Axes>"
      ]
     },
     "metadata": {},
     "output_type": "display_data"
    }
   ],
   "source": [
    "pipeline.fit(x_train, y_train)\n",
    "\n",
    "pred = pipeline.predict(x_test)\n",
    "\n",
    "print(\"Exactitud: \", round(accuracy_score(y_test, pred), 3))\n",
    "print(\"Precisión: \", round(precision_score(y_test, pred, average='weighted'), 3))\n",
    "print(\"Recall: \", round(recall_score(y_test, pred, average='weighted'), 3))\n",
    "print(\"F1: \", round(f1_score(y_test, pred, average='weighted'), 3))\n",
    "\n",
    "cm = confusion_matrix(y_test, pred)\n",
    "disp = ConfusionMatrixDisplay(confusion_matrix=cm, display_labels=pipeline.classes_)\n",
    "disp.plot()\n",
    "\n",
    "plt.show()"
   ]
  },
  {
   "cell_type": "code",
   "execution_count": 336,
   "metadata": {},
   "outputs": [
    {
     "name": "stdout",
     "output_type": "stream",
     "text": [
      "0     horribl\n",
      "1    muy buen\n",
      "2         mal\n",
      "3    excelent\n",
      "4       pesim\n",
      "5     muy mal\n",
      "dtype: object\n",
      "horrible : 1\n",
      "muy bueno : 4\n",
      "malo : 1\n",
      "excelente : 5\n",
      "pésimo : 1\n",
      "muy malo : 2\n"
     ]
    }
   ],
   "source": [
    "test = pd.Series([\"horrible\", \"muy bueno\", \"malo\", \"excelente\", \"pésimo\", \"muy malo\"])\n",
    "\n",
    "print(limpieza().fit(test).data)\n",
    "\n",
    "result = pipeline.predict(test)\n",
    "\n",
    "for i in range(len(test)):\n",
    "    print(test[i], \":\", result[i])\n"
   ]
  }
 ],
 "metadata": {
  "kernelspec": {
   "display_name": "Python 3",
   "language": "python",
   "name": "python3"
  },
  "language_info": {
   "codemirror_mode": {
    "name": "ipython",
    "version": 3
   },
   "file_extension": ".py",
   "mimetype": "text/x-python",
   "name": "python",
   "nbconvert_exporter": "python",
   "pygments_lexer": "ipython3",
   "version": "3.10.11"
  }
 },
 "nbformat": 4,
 "nbformat_minor": 2
}
