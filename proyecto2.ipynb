{
 "cells": [
  {
   "cell_type": "code",
   "execution_count": 2,
   "metadata": {},
   "outputs": [
    {
     "name": "stderr",
     "output_type": "stream",
     "text": [
      "[nltk_data] Downloading package stopwords to\n",
      "[nltk_data]     C:\\Users\\Luisfetoga\\AppData\\Roaming\\nltk_data...\n",
      "[nltk_data]   Package stopwords is already up-to-date!\n"
     ]
    }
   ],
   "source": [
    "import pandas as pd\n",
    "import matplotlib.pyplot as plt\n",
    "\n",
    "from sklearn.model_selection import train_test_split\n",
    "\n",
    "import nltk\n",
    "nltk.download('stopwords')\n",
    "from nltk.corpus import stopwords\n",
    "\n",
    "from sklearn.pipeline import make_pipeline\n",
    "\n",
    "from sklearn.feature_extraction.text import TfidfVectorizer\n",
    "\n",
    "from sklearn.linear_model import LogisticRegression\n",
    "\n",
    "from sklearn.metrics import ConfusionMatrixDisplay\n",
    "from sklearn.metrics import confusion_matrix\n",
    "from sklearn.metrics import precision_score, recall_score, f1_score, accuracy_score"
   ]
  },
  {
   "cell_type": "code",
   "execution_count": 5,
   "metadata": {},
   "outputs": [],
   "source": [
    "class limpieza:\n",
    "\n",
    "    def solo_letras(self, texto):\n",
    "        abc = set(list(\"abcdefghijklmnñopqrstuvwxyz\"))\n",
    "        new_texto = \"\"\n",
    "        for i in range(len(texto)):\n",
    "            if texto[i] not in abc:\n",
    "                new_texto += \" \"\n",
    "            else:\n",
    "                new_texto += texto[i]\n",
    "        return new_texto\n",
    "\n",
    "    def texto(self):\n",
    "        self.data = self.data.lower()\n",
    "        self.data = self.data.replace(\"á\", \"a\").replace(\"é\", \"e\").replace(\"í\", \"i\").replace(\"ó\", \"o\").replace(\"ú\", \"u\")\n",
    "        self.data = self.solo_letras(self.data)\n",
    "        return self.data\n",
    "    \n",
    "    def stopwords(self):\n",
    "        stop = stopwords.words(\"spanish\")\n",
    "        stop.remove(\"no\")\n",
    "        self.data = \" \".join([item for item in self.data.split() if item not in stop])\n",
    "        return self.data\n",
    "\n",
    "    def stem(self):\n",
    "        stemmer = nltk.SnowballStemmer(\"spanish\")\n",
    "        self.data = \" \".join([stemmer.stem(item) for item in self.data.split()])\n",
    "        return self.data\n",
    "    \n",
    "    def limpiar(self, data):\n",
    "        self.data = data\n",
    "        self.texto()\n",
    "        self.stem()\n",
    "        self.stopwords()\n",
    "        return self.data\n"
   ]
  },
  {
   "cell_type": "code",
   "execution_count": 6,
   "metadata": {},
   "outputs": [],
   "source": [
    "data = pd.read_csv('tipo2_entrenamiento_estudiantes.csv')\n",
    "\n",
    "data[\"Review\"] = data[\"Review\"].apply(limpieza().limpiar)\n",
    "\n",
    "data_train, data_test = train_test_split(data, test_size=0.2)\n",
    "x_train, x_test = data_train[\"Review\"], data_test[\"Review\"]\n",
    "y_train, y_test = data_train[\"Class\"], data_test[\"Class\"]"
   ]
  },
  {
   "cell_type": "code",
   "execution_count": 7,
   "metadata": {},
   "outputs": [],
   "source": [
    "pipeline = make_pipeline(\n",
    "    TfidfVectorizer(sublinear_tf=True, max_df=0.5, min_df=5, ngram_range=(1, 3)),\n",
    "    LogisticRegression(max_iter=1000)\n",
    ")"
   ]
  },
  {
   "cell_type": "code",
   "execution_count": 8,
   "metadata": {},
   "outputs": [
    {
     "name": "stdout",
     "output_type": "stream",
     "text": [
      "Exactitud:  0.507\n",
      "Precisión:  0.508\n",
      "Recall:  0.507\n",
      "F1:  0.503\n"
     ]
    },
    {
     "data": {
      "image/png": "[encoded data removed]",
      "text/plain": [
       "<Figure size 640x480 with 2 Axes>"
      ]
     },
     "metadata": {},
     "output_type": "display_data"
    }
   ],
   "source": [
    "pipeline.fit(x_train, y_train)\n",
    "\n",
    "pred = pipeline.predict(x_test)\n",
    "\n",
    "print(\"Exactitud: \", round(accuracy_score(y_test, pred), 3))\n",
    "print(\"Precisión: \", round(precision_score(y_test, pred, average='weighted'), 3))\n",
    "print(\"Recall: \", round(recall_score(y_test, pred, average='weighted'), 3))\n",
    "print(\"F1: \", round(f1_score(y_test, pred, average='weighted'), 3))\n",
    "\n",
    "cm = confusion_matrix(y_test, pred)\n",
    "disp = ConfusionMatrixDisplay(confusion_matrix=cm, display_labels=pipeline.classes_)\n",
    "disp.plot()\n",
    "\n",
    "plt.show()"
   ]
  },
  {
   "cell_type": "code",
   "execution_count": 11,
   "metadata": {},
   "outputs": [
    {
     "name": "stdout",
     "output_type": "stream",
     "text": [
      "no : 5 (32.44%)\n",
      "buen : 4 (88.46%)\n",
      "mal : 2 (64.29%)\n",
      "excelent : 5 (97.35%)\n",
      "pesim : 1 (87.61%)\n",
      "mal : 2 (64.29%)\n"
     ]
    }
   ],
   "source": [
    "test = pd.Series([\"no\", \"muy bueno\", \"malo\", \"excelente\", \"pésimo\", \"muy malo\"])\n",
    "\n",
    "test = test.apply(limpieza().limpiar)\n",
    "\n",
    "result = pipeline.predict(test)\n",
    "score = pipeline.predict_proba(test)\n",
    "\n",
    "for i in range(len(test)):\n",
    "    print(test[i], \":\", result[i], \"(\"+str(round(score[i][result[i]-1]*100,2))+\"%)\")\n"
   ]
  },
  {
   "cell_type": "code",
   "execution_count": 12,
   "metadata": {},
   "outputs": [
    {
     "data": {
      "text/plain": [
       "array([[1.01272724e-01, 1.23952950e-01, 1.94156744e-01, 2.56227307e-01,\n",
       "        3.24390275e-01],\n",
       "       [5.09320428e-04, 2.62587385e-03, 8.28176134e-02, 8.84615937e-01,\n",
       "        2.94312556e-02],\n",
       "       [3.16915401e-01, 6.42874345e-01, 3.51810424e-02, 3.78163570e-03,\n",
       "        1.24757623e-03],\n",
       "       [2.85989021e-04, 3.89811184e-04, 8.93023179e-04, 2.49239334e-02,\n",
       "        9.73507243e-01],\n",
       "       [8.76115996e-01, 7.40019934e-02, 2.24806751e-02, 1.26260156e-02,\n",
       "        1.47753197e-02],\n",
       "       [3.16915401e-01, 6.42874345e-01, 3.51810424e-02, 3.78163570e-03,\n",
       "        1.24757623e-03]])"
      ]
     },
     "execution_count": 12,
     "metadata": {},
     "output_type": "execute_result"
    }
   ],
   "source": [
    "pipeline.predict_proba(test)"
   ]
  },
  {
   "cell_type": "code",
   "execution_count": 13,
   "metadata": {},
   "outputs": [
    {
     "data": {
      "text/plain": [
       "['reviewModel.joblib']"
      ]
     },
     "execution_count": 13,
     "metadata": {},
     "output_type": "execute_result"
    }
   ],
   "source": [
    "from joblib import dump, load\n",
    "\n",
    "dump(pipeline, 'reviewModel.joblib')"
   ]
  }
 ],
 "metadata": {
  "kernelspec": {
   "display_name": "Python 3",
   "language": "python",
   "name": "python3"
  },
  "language_info": {
   "codemirror_mode": {
    "name": "ipython",
    "version": 3
   },
   "file_extension": ".py",
   "mimetype": "text/x-python",
   "name": "python",
   "nbconvert_exporter": "python",
   "pygments_lexer": "ipython3",
   "version": "3.10.11"
  }
 },
 "nbformat": 4,
 "nbformat_minor": 2
}
